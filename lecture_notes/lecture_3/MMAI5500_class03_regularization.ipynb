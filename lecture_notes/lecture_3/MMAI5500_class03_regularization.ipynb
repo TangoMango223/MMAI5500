{
 "cells": [
  {
   "cell_type": "markdown",
   "metadata": {
    "id": "mvhBRPtQ9KSA"
   },
   "source": [
    "# Regularization\n",
    "\n",
    "We will use sklearn's `MLPClassifier` to explore the generalization gap and regularization.\n",
    "\n",
    "## Imports"
   ]
  },
  {
   "cell_type": "code",
   "execution_count": null,
   "metadata": {
    "id": "oh3ZGyZw9KSF"
   },
   "outputs": [],
   "source": [
    "import os\n",
    "import numpy as np\n",
    "from sklearn.neural_network import MLPClassifier\n",
    "from sklearn.model_selection import train_test_split\n",
    "from sklearn.datasets import make_moons\n",
    "# Plotting\n",
    "import seaborn as sns\n",
    "import matplotlib.pyplot as plt\n",
    "from matplotlib import cm\n",
    "from mpl_toolkits.mplot3d import Axes3D\n",
    "import warnings\n",
    "warnings.filterwarnings(\"ignore\")\n",
    "\n",
    "sns.set_style(\"whitegrid\")\n",
    "\n",
    "%matplotlib inline"
   ]
  },
  {
   "cell_type": "markdown",
   "metadata": {
    "id": "iKJ1DgXp9KSG"
   },
   "source": [
    "## Data set\n",
    "\n",
    "We will use the artificial [moons data set](https://scikit-learn.org/stable/modules/generated/sklearn.datasets.make_moons.html) from sklearn."
   ]
  },
  {
   "cell_type": "code",
   "execution_count": null,
   "metadata": {
    "id": "K4lJGOYb9KSI"
   },
   "outputs": [],
   "source": [
    "# number of examples in the data set\n",
    "n_examples = 1000\n",
    "# fraction of the data set that goes into the valid set\n",
    "valid_sz = 0.2\n",
    "\n",
    "X, y = make_moons(n_samples=n_examples, noise=0.3, random_state=1)\n",
    "\n",
    "# Train-valid split\n",
    "X_train, X_valid, y_train, y_valid = train_test_split(X, y, test_size=valid_sz, random_state=2)"
   ]
  },
  {
   "cell_type": "markdown",
   "metadata": {
    "id": "BprJgi809KSJ"
   },
   "source": [
    "## Network"
   ]
  },
  {
   "cell_type": "code",
   "execution_count": null,
   "metadata": {
    "colab": {
     "base_uri": "https://localhost:8080/"
    },
    "id": "JtmBC0-D9KSK",
    "outputId": "39b44d2e-3ee6-4566-8d1d-3a2938550132"
   },
   "outputs": [],
   "source": [
    "# architecture\n",
    "hidden_layers = (100, 400, 400, 100)\n",
    "# L2 regularization parameter\n",
    "alpha = 0.0\n",
    "# Number of epochs per iteration in the training loop\n",
    "max_iter = 2\n",
    "# Number of training steps\n",
    "n_train_steps = 400\n",
    "# x-ticks for plotting\n",
    "epochs = np.arange(1, n_train_steps + 1) * max_iter\n",
    "# early stopping\n",
    "early_stopping = False # 1, 3, 4, 5, 6*\n",
    "# warm_start: when set to True, reuse the solution of the previous call to fit as initialization\n",
    "warm_start = True\n",
    "\n",
    "clf = MLPClassifier(random_state=6, \n",
    "                    hidden_layer_sizes=hidden_layers, \n",
    "                    alpha=alpha, \n",
    "                    solver='adam', \n",
    "                    max_iter=max_iter, \n",
    "                    tol=0., \n",
    "                    early_stopping=early_stopping,\n",
    "                    validation_fraction=0,\n",
    "                    warm_start=warm_start)\n",
    "\n",
    "train_acc, valid_acc = [], []\n",
    "\n",
    "for i in range(n_train_steps):\n",
    "    if (i % 40) == 0: \n",
    "      print(i, end='\\n')\n",
    "    else:\n",
    "      print(i, end=' ')\n",
    "    clf.fit(X_train, y_train)\n",
    "    train_acc.append(clf.score(X_train, y_train))\n",
    "    valid_acc.append(clf.score(X_valid, y_valid))"
   ]
  },
  {
   "cell_type": "code",
   "execution_count": null,
   "metadata": {
    "colab": {
     "base_uri": "https://localhost:8080/",
     "height": 636
    },
    "id": "BUrBZrxJ9KSM",
    "outputId": "db5f5d17-21c3-4f56-8e91-4a9d5464b884",
    "scrolled": true
   },
   "outputs": [],
   "source": [
    "fig = plt.figure(figsize=(10,6))\n",
    "ax = fig.add_subplot(111)\n",
    "ax.plot(epochs, train_acc, label='Training')\n",
    "ax.plot(epochs, valid_acc, label='Validation')\n",
    "ax.set_xlabel('Epoch')\n",
    "ax.set_ylabel('Accuracy')\n",
    "ax.legend()"
   ]
  },
  {
   "cell_type": "markdown",
   "metadata": {
    "id": "Ioj0ugSP9KSN"
   },
   "source": [
    "## Plotting to visualize the dicision boundary"
   ]
  },
  {
   "cell_type": "code",
   "execution_count": null,
   "metadata": {
    "id": "JDy84gDT9KSO"
   },
   "outputs": [],
   "source": [
    "# the function making up the graph of a dataset\n",
    "def make_plot(X, y, plot_name, fname=None, XX=None, YY=None, preds=None, dark=False):\n",
    "    \"\"\"\n",
    "    \"\"\"\n",
    "    if dark:\n",
    "        plt.style.use('dark_background')\n",
    "    else:\n",
    "        sns.set_style(\"whitegrid\")\n",
    "        \n",
    "    plt.figure(figsize=(16,12))\n",
    "    axes = plt.gca()\n",
    "    axes.set(xlabel=\"$X_1$\", ylabel=\"$X_2$\")\n",
    "    plt.title(plot_name, fontsize=30)\n",
    "    plt.subplots_adjust(left=0.20)\n",
    "    plt.subplots_adjust(right=0.80)\n",
    "    \n",
    "    if XX is not None and YY is not None and preds is not None:\n",
    "        plt.contourf(XX, YY, preds.reshape(XX.shape), 25, alpha=1, cmap=cm.Spectral)\n",
    "        plt.contour(XX, YY, preds.reshape(XX.shape), levels=[.5], cmap=\"Greys\", vmin=0, vmax=.6)\n",
    "        \n",
    "    plt.scatter(X[:, 0], X[:, 1], c=y.ravel(), s=40, cmap=plt.cm.Spectral, edgecolors='none')\n",
    "    \n",
    "    if fname:\n",
    "        plt.savefig(fname)\n",
    "        plt.close()\n",
    "\n",
    "    if dark:\n",
    "        plt.style.use('default')\n",
    "        sns.set_style(\"whitegrid\")\n",
    "\n",
    "# boundary of the graph\n",
    "# GRID_X_START = -1.5\n",
    "GRID_X_START, GRID_X_END = X[:, 0].min(), X[:, 0].max()\n",
    "# GRID_X_END = 2.5\n",
    "# GRID_Y_START = -1.0\n",
    "GRID_Y_START, GRID_Y_END = X[:, 1].min(), X[:, 1].max()\n",
    "# GRID_Y_END = 2\n",
    "# output directory (the folder must be created in the current working directory)\n",
    "OUTPUT_DIR = \"./fig/\"        \n",
    "grid = np.mgrid[GRID_X_START:GRID_X_END:100j,GRID_Y_START:GRID_Y_END:100j]\n",
    "grid_2d = grid.reshape(2, -1).T\n",
    "XX, YY = grid        "
   ]
  },
  {
   "cell_type": "code",
   "execution_count": null,
   "metadata": {
    "id": "PzRl9ibaEfz7"
   },
   "outputs": [],
   "source": [
    "if not os.path.isdir('fig'):\n",
    "    os.mkdir('fig')"
   ]
  },
  {
   "cell_type": "markdown",
   "metadata": {
    "id": "S5FXE1wO9KSQ"
   },
   "source": [
    "## Train a network and plot the desicion boundary"
   ]
  },
  {
   "cell_type": "code",
   "execution_count": null,
   "metadata": {
    "colab": {
     "base_uri": "https://localhost:8080/",
     "height": 1000
    },
    "id": "loOoq4NW9KSQ",
    "outputId": "76efaf23-18b8-410a-f062-0ebe636b1c4d"
   },
   "outputs": [],
   "source": [
    "# architecture\n",
    "hidden_layers = (100, 400, 400, 100)\n",
    "# L2 regularization parameter\n",
    "alpha = 0.0\n",
    "# Number of epochs per iteration in the training loop\n",
    "max_iter = 2\n",
    "# Number of training steps\n",
    "n_train_steps = 400\n",
    "# x-ticks for plotting\n",
    "epochs = np.arange(1, n_train_steps + 1) * max_iter\n",
    "# early stopping\n",
    "early_stopping = False # 1, 3, 4, 5, 6*\n",
    "# warm_start: when set to True, reuse the solution of the previous call to fit as initialization\n",
    "warm_start = True\n",
    "\n",
    "clf = MLPClassifier(random_state=6, \n",
    "                    hidden_layer_sizes=hidden_layers, \n",
    "                    alpha=alpha, \n",
    "                    solver='adam', \n",
    "                    max_iter=max_iter, \n",
    "                    tol=0., \n",
    "                    early_stopping=early_stopping,\n",
    "                    validation_fraction=0,\n",
    "                    warm_start=warm_start)\n",
    "\n",
    "train_acc, valid_acc = [], []\n",
    "\n",
    "for i in range(n_train_steps):\n",
    "    clf.fit(X_train, y_train)\n",
    "    train_acc.append(clf.score(X_train, y_train))\n",
    "    valid_acc.append(clf.score(X_valid, y_valid))\n",
    "    if not (i % 10):\n",
    "        print(i, end=' ')\n",
    "        pred_probs = clf.predict_proba(grid_2d)[:, 0]\n",
    "        plot_title = 'epoch %d' % epochs[i]\n",
    "        fname = \"model_{:05}.png\".format(epochs[i])\n",
    "        fpath = os.path.join(OUTPUT_DIR, fname)\n",
    "        make_plot(X_valid, y_valid, plot_title, fname=fpath, XX=XX, YY=YY, preds=pred_probs.T, dark=True)\n",
    "\n"
   ]
  },
  {
   "cell_type": "code",
   "execution_count": null,
   "metadata": {
    "colab": {
     "base_uri": "https://localhost:8080/",
     "height": 636
    },
    "id": "uoMREb-Z_9JG",
    "outputId": "c851cec0-bfb2-4c2f-e73a-531bc85f9ff7"
   },
   "outputs": [],
   "source": [
    "fig = plt.figure(figsize=(10,6))\n",
    "ax = fig.add_subplot(111)\n",
    "ax.plot(epochs, train_acc, label='Training')\n",
    "ax.plot(epochs, valid_acc, label='Validation')\n",
    "ax.set_xlabel('Epoch')\n",
    "ax.set_ylabel('Accuracy')\n",
    "ax.legend()  "
   ]
  },
  {
   "cell_type": "markdown",
   "metadata": {
    "id": "D4MunbBm9KSS"
   },
   "source": [
    "## Tasks\n",
    "\n",
    "Decrease the generalization error in **four** different ways.\n",
    "\n",
    "### Method 1"
   ]
  },
  {
   "cell_type": "code",
   "execution_count": null,
   "metadata": {
    "id": "8xornu0X_9JH"
   },
   "outputs": [],
   "source": []
  },
  {
   "cell_type": "code",
   "execution_count": null,
   "metadata": {
    "id": "gZImIuDf_9JH"
   },
   "outputs": [],
   "source": [
    "fig = plt.figure(figsize=(10, 6))\n",
    "ax = fig.add_subplot(111)\n",
    "ax.plot(epochs, train_acc, label='Training')\n",
    "ax.plot(epochs, valid_acc, label='Validation')\n",
    "ax.set_xlabel('Epoch')\n",
    "ax.set_ylabel('Accuracy')\n",
    "ax.legend()  "
   ]
  },
  {
   "cell_type": "markdown",
   "metadata": {
    "id": "8zrtX18e_9JI"
   },
   "source": [
    "### Method 2"
   ]
  },
  {
   "cell_type": "code",
   "execution_count": null,
   "metadata": {
    "id": "y42g6O5-_9JI"
   },
   "outputs": [],
   "source": []
  },
  {
   "cell_type": "code",
   "execution_count": null,
   "metadata": {
    "id": "DHE7Bp1z_9JJ"
   },
   "outputs": [],
   "source": [
    "fig = plt.figure(figsize=(10, 6))\n",
    "ax = fig.add_subplot(111)\n",
    "ax.plot(epochs, train_acc, label='Training')\n",
    "ax.plot(epochs, valid_acc, label='Validation')\n",
    "ax.set_xlabel('Epoch')\n",
    "ax.set_ylabel('Accuracy')\n",
    "ax.legend()  "
   ]
  },
  {
   "cell_type": "markdown",
   "metadata": {
    "id": "XuipCPjW_9JJ"
   },
   "source": [
    "### Method 3"
   ]
  },
  {
   "cell_type": "code",
   "execution_count": null,
   "metadata": {
    "id": "vlQMOADG_9JK"
   },
   "outputs": [],
   "source": []
  },
  {
   "cell_type": "code",
   "execution_count": null,
   "metadata": {
    "id": "1LHovBY9_9JK"
   },
   "outputs": [],
   "source": [
    "fig = plt.figure(figsize=(10, 6))\n",
    "ax = fig.add_subplot(111)\n",
    "ax.plot(epochs, train_acc, label='Training')\n",
    "ax.plot(epochs, valid_acc, label='Validation')\n",
    "ax.set_xlabel('Epoch')\n",
    "ax.set_ylabel('Accuracy')\n",
    "ax.legend()  "
   ]
  },
  {
   "cell_type": "markdown",
   "metadata": {
    "id": "CpIa6B2g_9JK"
   },
   "source": [
    "### Method 4"
   ]
  },
  {
   "cell_type": "code",
   "execution_count": null,
   "metadata": {
    "id": "wHQp93-v_9JL"
   },
   "outputs": [],
   "source": []
  },
  {
   "cell_type": "code",
   "execution_count": null,
   "metadata": {
    "id": "soNJ70Nv_9JL"
   },
   "outputs": [],
   "source": [
    "fig = plt.figure(figsize=(10, 6))\n",
    "ax = fig.add_subplot(111)\n",
    "ax.plot(epochs, train_acc, label='Training')\n",
    "ax.plot(epochs, valid_acc, label='Validation')\n",
    "ax.set_xlabel('Epoch')\n",
    "ax.set_ylabel('Accuracy')\n",
    "ax.legend()  "
   ]
  }
 ],
 "metadata": {
  "colab": {
   "provenance": []
  },
  "kernelspec": {
   "display_name": "Python 3 (ipykernel)",
   "language": "python",
   "name": "python3"
  },
  "language_info": {
   "codemirror_mode": {
    "name": "ipython",
    "version": 3
   },
   "file_extension": ".py",
   "mimetype": "text/x-python",
   "name": "python",
   "nbconvert_exporter": "python",
   "pygments_lexer": "ipython3",
   "version": "3.12.3"
  }
 },
 "nbformat": 4,
 "nbformat_minor": 4
}
