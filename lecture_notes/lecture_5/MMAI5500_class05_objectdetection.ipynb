{
 "cells": [
  {
   "cell_type": "markdown",
   "metadata": {
    "id": "GVWNmqs3ZFKx"
   },
   "source": [
    "# Object detection with ImageAI\n",
    "\n",
    "In this tutorial we will be using the [ImageAI library](https://github.com/OlafenwaMoses/ImageAI).\n",
    "It provides classes and pre-trained models for both object detection and image recognition, as well as, the ability to train your custom models.\n",
    "\n",
    "## Install ImageAI"
   ]
  },
  {
   "cell_type": "code",
   "execution_count": null,
   "metadata": {
    "colab": {
     "base_uri": "https://localhost:8080/"
    },
    "id": "rK6_KN_aZUrs",
    "outputId": "c45db725-7e4e-40b7-cffb-978b30d4a21e"
   },
   "outputs": [],
   "source": [
    "!pip install -U imageai"
   ]
  },
  {
   "cell_type": "markdown",
   "metadata": {
    "id": "61VILWtKfjyi"
   },
   "source": [
    "## Upload the models to Colab\n",
    "\n",
    "Download them to your local computer and then upload to Colab.\n",
    "\n",
    " * [YOLO v3](https://github.com/OlafenwaMoses/ImageAI/releases/download/3.0.0-pretrained/yolov3.pt)\n",
    " * [Tiny YOLO v3](https://github.com/OlafenwaMoses/ImageAI/releases/download/3.0.0-pretrained/tiny-yolov3.pt)\n",
    " * [RetinaNet](https://github.com/OlafenwaMoses/ImageAI/releases/download/3.0.0-pretrained/retinanet_resnet50_fpn_coco-eeacb38b.pth)\n",
    "\n",
    "\n",
    "```Python\n",
    "from google.colab import files\n",
    "\n",
    "uploaded = files.upload()\n",
    "```\n",
    "\n",
    "## Set runtime to GPU\n",
    "\n",
    " Runtime > Change runtime type > Hardware acceleratior > GPU\n",
    "\n",
    "## The data\n",
    "\n",
    "Upload `tutorial_images.zip` and upzip them."
   ]
  },
  {
   "cell_type": "code",
   "execution_count": null,
   "metadata": {
    "id": "WuoG8KWBwYtg"
   },
   "outputs": [],
   "source": [
    "from google.colab import files\n",
    "\n",
    "uploaded = files.upload()"
   ]
  },
  {
   "cell_type": "code",
   "execution_count": null,
   "metadata": {
    "colab": {
     "base_uri": "https://localhost:8080/"
    },
    "id": "0lOwOVmV0YjS",
    "outputId": "856c4c55-41b8-4786-def6-174bb3e32c27"
   },
   "outputs": [],
   "source": [
    "# Download retinanet\n",
    "!wget https://github.com/OlafenwaMoses/ImageAI/releases/download/3.0.0-pretrained/retinanet_resnet50_fpn_coco-eeacb38b.pth"
   ]
  },
  {
   "cell_type": "code",
   "execution_count": null,
   "metadata": {
    "colab": {
     "base_uri": "https://localhost:8080/"
    },
    "id": "_tmNHGTKzXAo",
    "outputId": "802fedce-8d75-4a6c-9ef0-6b3f8634cc49"
   },
   "outputs": [],
   "source": [
    "# Download YOLOv3\n",
    "!wget https://github.com/OlafenwaMoses/ImageAI/releases/download/3.0.0-pretrained/yolov3.pt"
   ]
  },
  {
   "cell_type": "code",
   "execution_count": null,
   "metadata": {
    "colab": {
     "base_uri": "https://localhost:8080/"
    },
    "id": "3G6cCPAcz5Kc",
    "outputId": "36586f6b-fda4-4767-9642-1f0473c6e981"
   },
   "outputs": [],
   "source": [
    "# Download Tiny YOLOv3\n",
    "!wget https://github.com/OlafenwaMoses/ImageAI/releases/download/3.0.0-pretrained/tiny-yolov3.pt"
   ]
  },
  {
   "cell_type": "code",
   "execution_count": null,
   "metadata": {
    "id": "K9D0yUytOhqM"
   },
   "outputs": [],
   "source": []
  },
  {
   "cell_type": "code",
   "execution_count": null,
   "metadata": {
    "colab": {
     "base_uri": "https://localhost:8080/"
    },
    "id": "hByLvdeAfmM7",
    "outputId": "4a877a7b-1a9a-4f5a-da0d-f5800e4f9411"
   },
   "outputs": [],
   "source": [
    "!mkdir -p data/images\n",
    "!unzip tutorial_images.zip -d data/images\n",
    "image_path = 'data/images'"
   ]
  },
  {
   "cell_type": "code",
   "execution_count": null,
   "metadata": {
    "id": "Zg0_Q_g7YxBk"
   },
   "outputs": [],
   "source": [
    "import os\n",
    "from imageai.Detection import ObjectDetection"
   ]
  },
  {
   "cell_type": "markdown",
   "metadata": {
    "id": "fsJ4uEPBaL-L"
   },
   "source": [
    "Create a new instance of the `ObjectDetection` class."
   ]
  },
  {
   "cell_type": "code",
   "execution_count": null,
   "metadata": {
    "id": "JIwDGqn-ZXqr"
   },
   "outputs": [],
   "source": [
    "detector = ObjectDetection()"
   ]
  },
  {
   "cell_type": "markdown",
   "metadata": {
    "id": "GVMx528vaTww"
   },
   "source": [
    "Set the model type of the object detection instance."
   ]
  },
  {
   "cell_type": "code",
   "execution_count": null,
   "metadata": {
    "id": "BOY_6JzWZpQ6"
   },
   "outputs": [],
   "source": [
    "# YOLOv3\n",
    "detector.setModelTypeAsYOLOv3()"
   ]
  },
  {
   "cell_type": "markdown",
   "metadata": {
    "id": "MuhRU6LPac6u"
   },
   "source": [
    "Set the path to the downloaded, pre-trained model."
   ]
  },
  {
   "cell_type": "code",
   "execution_count": null,
   "metadata": {
    "id": "0kU4315Kad5t"
   },
   "outputs": [],
   "source": [
    "# YOLOv3\n",
    "detector.setModelPath(\"yolov3.pt\")"
   ]
  },
  {
   "cell_type": "markdown",
   "metadata": {
    "id": "clJQrkC_aqb6"
   },
   "source": [
    "Load the model"
   ]
  },
  {
   "cell_type": "code",
   "execution_count": null,
   "metadata": {
    "colab": {
     "base_uri": "https://localhost:8080/"
    },
    "id": "yNFKmMrSZ6nA",
    "outputId": "ec699178-214a-487c-9bd4-e40a0e8c707f"
   },
   "outputs": [],
   "source": [
    "detector.loadModel()"
   ]
  },
  {
   "cell_type": "markdown",
   "metadata": {
    "id": "eksdxTbHfxRJ"
   },
   "source": [
    "## Test the model"
   ]
  },
  {
   "cell_type": "code",
   "execution_count": null,
   "metadata": {
    "id": "Kn3sJ7diasYm"
   },
   "outputs": [],
   "source": [
    "detections = detector.detectObjectsFromImage(input_image=os.path.join(image_path, \"11.jpg\"),\n",
    "                                             output_image_path=\"11_detected.jpg\",\n",
    "                                             minimum_percentage_probability=30)"
   ]
  },
  {
   "cell_type": "code",
   "execution_count": null,
   "metadata": {
    "colab": {
     "base_uri": "https://localhost:8080/"
    },
    "id": "Vntofcc2f984",
    "outputId": "bb112eb7-9614-4cf8-8ad9-82ff0dc1fb7a"
   },
   "outputs": [],
   "source": [
    "for eachObject in detections:\n",
    "    print(eachObject[\"name\"] , \" : \", eachObject[\"percentage_probability\"], \" : \", eachObject[\"box_points\"] )\n",
    "    print(\"--------------------------------\")"
   ]
  },
  {
   "cell_type": "markdown",
   "metadata": {
    "id": "BrAiGyh8gagA"
   },
   "source": [
    "## Task 1\n",
    "\n",
    "Test the performance on all images in `tutorial_images` using `YOLOv3` and `minimum_percentage_probability = 30`."
   ]
  },
  {
   "cell_type": "code",
   "execution_count": null,
   "metadata": {
    "id": "erY58_DK2RAi"
   },
   "outputs": [],
   "source": []
  },
  {
   "cell_type": "markdown",
   "metadata": {
    "id": "ghJ6oHyVdIKp"
   },
   "source": [
    "**Tutorial question 1**: How many objects were detected in images 6, 7 and 9?\n",
    "\n",
    "**Tutorial question 2**: What is detected in image 4?"
   ]
  },
  {
   "cell_type": "code",
   "execution_count": null,
   "metadata": {
    "id": "bFr444wSgSgw"
   },
   "outputs": [],
   "source": []
  },
  {
   "cell_type": "markdown",
   "metadata": {
    "id": "j7oxd8vigrpa"
   },
   "source": [
    "\n",
    "## Task 2\n",
    "Compare the performance of the 3 models."
   ]
  },
  {
   "cell_type": "code",
   "execution_count": null,
   "metadata": {
    "colab": {
     "base_uri": "https://localhost:8080/",
     "height": 55
    },
    "id": "yTfEHc9JfqIR",
    "outputId": "ac1b3485-248b-4c32-a66a-fe28a3152e86"
   },
   "outputs": [],
   "source": []
  },
  {
   "cell_type": "code",
   "execution_count": null,
   "metadata": {
    "colab": {
     "base_uri": "https://localhost:8080/"
    },
    "id": "_wCZuUocbubg",
    "outputId": "8ef324af-6efb-4824-da8d-e4af6ed563f9"
   },
   "outputs": [],
   "source": []
  },
  {
   "cell_type": "code",
   "execution_count": null,
   "metadata": {
    "id": "3-P_-Gg4dGVo"
   },
   "outputs": [],
   "source": []
  },
  {
   "cell_type": "markdown",
   "metadata": {
    "id": "VN-6FQ3ri8NC"
   },
   "source": [
    "**Tutorial question 3**: Which model was best?\n",
    "\n",
    "## Object detection in video"
   ]
  },
  {
   "cell_type": "code",
   "execution_count": null,
   "metadata": {
    "colab": {
     "base_uri": "https://localhost:8080/"
    },
    "id": "XZVsKaeWaOaH",
    "outputId": "e405051c-7374-4636-b533-196590e7679a"
   },
   "outputs": [],
   "source": [
    "!mkdir -p data/video\n",
    "!unzip tutorial_video.zip -d data/video\n",
    "video_path = 'data/video'"
   ]
  },
  {
   "cell_type": "code",
   "execution_count": null,
   "metadata": {
    "id": "6gRGb3pojHIo"
   },
   "outputs": [],
   "source": [
    "from imageai.Detection import VideoObjectDetection\n",
    "detector = VideoObjectDetection()"
   ]
  },
  {
   "cell_type": "code",
   "execution_count": null,
   "metadata": {
    "id": "D4uXa6O1jKYY"
   },
   "outputs": [],
   "source": [
    "detector.setModelTypeAsYOLOv3()\n",
    "detector.setModelPath(\"yolov3.pt\")"
   ]
  },
  {
   "cell_type": "code",
   "execution_count": null,
   "metadata": {
    "id": "XJ_jHJkDjOi5"
   },
   "outputs": [],
   "source": [
    "detector.loadModel()"
   ]
  },
  {
   "cell_type": "code",
   "execution_count": null,
   "metadata": {
    "colab": {
     "base_uri": "https://localhost:8080/"
    },
    "id": "u8odx7O9jQRw",
    "outputId": "6cda5308-2466-4106-9efe-d1a3fb979bc9"
   },
   "outputs": [],
   "source": [
    "video_path = detector.detectObjectsFromVideo(os.path.join(video_path, \"traffic-mini.mp4\"),\n",
    "                                             output_file_path=\"traffic-mini_detected\",\n",
    "                                             frames_per_second=5, log_progress=True)\n",
    "print(video_path)"
   ]
  },
  {
   "cell_type": "code",
   "execution_count": null,
   "metadata": {
    "id": "Nj_azW8zjs_5"
   },
   "outputs": [],
   "source": []
  }
 ],
 "metadata": {
  "accelerator": "GPU",
  "colab": {
   "provenance": []
  },
  "kernelspec": {
   "display_name": "Python 3 (ipykernel)",
   "language": "python",
   "name": "python3"
  },
  "language_info": {
   "codemirror_mode": {
    "name": "ipython",
    "version": 3
   },
   "file_extension": ".py",
   "mimetype": "text/x-python",
   "name": "python",
   "nbconvert_exporter": "python",
   "pygments_lexer": "ipython3",
   "version": "3.12.3"
  }
 },
 "nbformat": 4,
 "nbformat_minor": 4
}
